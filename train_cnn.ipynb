{
 "cells": [
  {
   "cell_type": "markdown",
   "metadata": {},
   "source": [
    "# Advanced Lane Detection\n",
    "\n",
    "## (using Deep Learning)\n",
    "\n",
    "\n",
    "\n",
    "\n",
    "### Import TensorFlow and Keras libraries\n",
    "\n",
    "We will start by importing all the necessary libraries for Keras and TensorFlow. Apart from these libraries, we will also import some other libraries such as NumPy, Glob, cv2, csv, and MatPlotLib.\n"
   ]
  },
  {
   "cell_type": "code",
   "execution_count": 1,
   "metadata": {},
   "outputs": [
    {
     "name": "stderr",
     "output_type": "stream",
     "text": [
      "Using TensorFlow backend.\n"
     ]
    }
   ],
   "source": [
    "import os\n",
    "import csv\n",
    "import cv2\n",
    "import numpy as np\n",
    "import keras\n",
    "import tensorflow as tf\n",
    "import matplotlib.image as mpimg\n",
    "import matplotlib.pyplot as plt\n",
    "import random\n",
    "import math\n",
    "\n",
    "from scipy import ndimage\n",
    "\n",
    "from keras.models import Model\n",
    "from keras.models import Sequential\n",
    "from keras.layers import Flatten, Dense, Lambda, Activation\n",
    "from keras.layers import Conv2D, MaxPooling2D, Cropping2D, Dropout\n",
    "from keras.preprocessing.image import ImageDataGenerator\n",
    "\n",
    "import sklearn\n",
    "from sklearn.model_selection import train_test_split\n",
    "\n",
    "import GPUtil as GPU"
   ]
  },
  {
   "cell_type": "markdown",
   "metadata": {},
   "source": [
    "## GPU information\n",
    "\n",
    "Here, we will print some information related to GPU memory capacity. The user can accordingly make modifications to the code in case of more/less capacity."
   ]
  },
  {
   "cell_type": "code",
   "execution_count": 2,
   "metadata": {},
   "outputs": [
    {
     "name": "stdout",
     "output_type": "stream",
     "text": [
      "Total Available GPU memory: 4096.0 MB\n",
      "Used GPU memory: 764.0 MB\n",
      "Total Free GPU memory: 3332.0 MB\n"
     ]
    }
   ],
   "source": [
    "import GPUtil as GPU\n",
    "GPUs = GPU.getGPUs()\n",
    "gpu = GPUs[0]\n",
    "print(\"Total Available GPU memory: {} MB\".format(gpu.memoryTotal))\n",
    "print(\"Used GPU memory: {} MB\".format(gpu.memoryUsed))\n",
    "print(\"Total Free GPU memory: {} MB\".format(gpu.memoryFree))"
   ]
  },
  {
   "cell_type": "markdown",
   "metadata": {},
   "source": [
    "## Check library versions\n",
    "\n",
    "Here, we print the versions of tensorflow, keras and OpenCV versions to compare compatibility."
   ]
  },
  {
   "cell_type": "code",
   "execution_count": 3,
   "metadata": {},
   "outputs": [
    {
     "name": "stdout",
     "output_type": "stream",
     "text": [
      "Current OpenCV version: 3.4.2\n",
      "Using TensorFlow version: 2.1.0\n",
      "Using Keras version: 2.3.1\n"
     ]
    }
   ],
   "source": [
    "# printing installed tensorflow/keras/OpenCV versions\n",
    "print(\"Current OpenCV version:\", cv2.__version__)\n",
    "print(\"Using TensorFlow version:\", tf.__version__)\n",
    "print(\"Using Keras version:\", keras.__version__)"
   ]
  },
  {
   "cell_type": "markdown",
   "metadata": {},
   "source": [
    "## Data Augmentation\n",
    "\n",
    "We use this cell to activate data augmentation. This step is highly advised to correct for any undesired bias in the model. We create a bool parameter. If set to True, we will perform data augmentation.\n",
    "\n",
    "(Note: This step may take a significant amount of time depending on the size of the original data)."
   ]
  },
  {
   "cell_type": "code",
   "execution_count": 4,
   "metadata": {},
   "outputs": [],
   "source": [
    "# setting data augmentation activation to True/False\n",
    "\n",
    "augment_data = False"
   ]
  },
  {
   "cell_type": "markdown",
   "metadata": {},
   "source": [
    "## Dataset building and Augmentation\n",
    "\n",
    "Here, we load the data from the *driving_log.csv* file and if required, augment the data by flipping the images in the opposite direction."
   ]
  },
  {
   "cell_type": "code",
   "execution_count": 5,
   "metadata": {},
   "outputs": [
    {
     "name": "stdout",
     "output_type": "stream",
     "text": [
      "(5796, 270, 480, 3)\n",
      "(5796, 6)\n"
     ]
    }
   ],
   "source": [
    "# 1. Start of dataset building\n",
    "## Read the csv file containing saved model data\n",
    "\n",
    "lines = []\n",
    "with open('./model_data.csv') as csvfile:\n",
    "    reader = csv.reader(csvfile)\n",
    "    for line in reader:\n",
    "        lines.append(line)\n",
    "\n",
    "# empty list to store images\n",
    "images = []\n",
    "\n",
    "# lists to save polynomial measurements for left and right lanes\n",
    "measurements = []\n",
    "\n",
    "# directory for accessing binary images\n",
    "directory = '../data_for_lane_detection/binary_images/'\n",
    "# directory = '../data_for_lane_detection/lanelines_images/'\n",
    "directory = '../data_for_lane_detection/transformed_images/'\n",
    "\n",
    "if (augment_data):\n",
    "    print(\"Performing data augmentation by flipping the images ...\\n\")\n",
    "\n",
    "    \n",
    "\n",
    "for line in lines:\n",
    "\n",
    "    # reading filesnames for binary images and lanelines images\n",
    "    fname_binary_img = line[0]\n",
    "    # fname_transformed_img = line[1]\n",
    "\n",
    "    # reading images using opencv\n",
    "    bin_img = mpimg.imread(fname_binary_img)\n",
    "    # laneline_img = mpimg.imread(fname_lanelines_img)\n",
    "    # transformed_img = mpimg.imread(fname_transformed_img)\n",
    "    \n",
    "    # adding images to the lists\n",
    "    images.append(bin_img)\n",
    "    # images.append(transformed_img)\n",
    "    \n",
    "    # adding steering angles for center. left and right images\n",
    "    measurement1 = []\n",
    "    measurement1.append(float(line[1]))\n",
    "    measurement1.append(float(line[2]))\n",
    "    measurement1.append(float(line[3]))\n",
    "    measurement1.append(float(line[4]))\n",
    "    measurement1.append(float(line[5]))\n",
    "    measurement1.append(float(line[6]))\n",
    "    # measurement1.append(float(line[7]))\n",
    "    \n",
    "    measurements.append(measurement1)\n",
    "\n",
    "    # only if data augmentation is required\n",
    "    if (augment_data):\n",
    "\n",
    "        transformed_img_flipped = np.fliplr(transformed_img)\n",
    "        images.append(transformed_img_flipped)\n",
    "        \n",
    "        # flip the measurements\n",
    "        left_measurements_a_flip = -(float(line[1]))\n",
    "        left_measurements_b_flip = -(float(line[2]))\n",
    "        left_measurements_c_flip = -(float(line[3]))\n",
    "        right_measurements_a_flip = -(float(line[4]))\n",
    "        right_measurements_b_flip = -(float(line[5]))\n",
    "        right_measurements_c_flip = -(float(line[6]))\n",
    "        \n",
    "        # add the flipped measurements to the current measurements lists\n",
    "        measurements.append(left_measurements_a_flip)\n",
    "        measurements.append(left_measurements_b_flip)\n",
    "        measurements.append(left_measurements_c_flip)\n",
    "        measurements.append(right_measurements_a_flip)\n",
    "        measurements.append(right_measurements_b_flip)\n",
    "        measurements.append(right_measurements_c_flip)\n",
    "\n",
    "\n",
    "# define arrays for datasets\n",
    "X_train = np.array(images)\n",
    "measurements = np.array(measurements)\n",
    "\n",
    "print(X_train.shape)\n",
    "print(measurements.shape)"
   ]
  },
  {
   "cell_type": "markdown",
   "metadata": {},
   "source": [
    "## Display sample flipped images\n",
    "\n",
    "This is the procedure I used to augment the data. The image was flipped from left to right. Here is a sample flipped image."
   ]
  },
  {
   "cell_type": "code",
   "execution_count": 6,
   "metadata": {},
   "outputs": [
    {
     "name": "stdout",
     "output_type": "stream",
     "text": [
      "Note: Data Augmentation is turned off!!!\n",
      "Hence, no flipped images are displayed!\n"
     ]
    }
   ],
   "source": [
    "# select a random image from the dataset\n",
    "\n",
    "if (augment_data):\n",
    "    idx = random.randint(0, len(X_train))\n",
    "    img = X_train[idx]\n",
    "    flipped_img = np.fliplr(img)\n",
    "\n",
    "    measure = measurements[idx]\n",
    "\n",
    "    plt.figure(1)\n",
    "    f, (ax1, ax2) = plt.subplots(1, 2, figsize=(40, 20))\n",
    "\n",
    "    ax1.imshow(img)\n",
    "    ax1.set_title('Original Image, measuremnets = ' + str(measurements[idx]) , fontsize=20)\n",
    "    ax2.imshow(flipped_img)\n",
    "    ax2.set_title('Flipped Image, measurements = ', fontsize=20)\n",
    "    ax1.axis('off')\n",
    "    ax2.axis('off')\n",
    "    plt.show()\n",
    "else:\n",
    "    print(\"Note: Data Augmentation is turned off!!!\")\n",
    "    print(\"Hence, no flipped images are displayed!\")"
   ]
  },
  {
   "cell_type": "markdown",
   "metadata": {},
   "source": [
    "### Print Dataset information\n",
    "\n",
    "We will print information regarding the dataset here. We will also print information after data augmentation. For each laneline, we have a set of three polynomial coefficients."
   ]
  },
  {
   "cell_type": "code",
   "execution_count": 7,
   "metadata": {},
   "outputs": [
    {
     "name": "stdout",
     "output_type": "stream",
     "text": [
      "(5796, 270, 480, 3)\n",
      "(5796, 6)\n"
     ]
    }
   ],
   "source": [
    "# function to print the dataset information\n",
    "def print_dataset_info():\n",
    "\n",
    "    if (augment_data):\n",
    "        # print out array shapes and details\n",
    "        print(\"Original Dataset information ---\\n\")\n",
    "        # print(\"Image shape: \", X_train[0][1])\n",
    "        print(\"Measurement Sets:\", 0.5*len(measurements))\n",
    "        print(\"Total images:\", 0.5*X_train.shape[0])\n",
    "        print()\n",
    "\n",
    "        print(\"Augmented Dataset information ---\\n\")\n",
    "        # print(\"Image shape: \", X_train[0][1])\n",
    "        print(\"Measurement sets after augmentation:\", len(measurements))\n",
    "        print(\"Total images after augmentation:\", X_train.shape[0])\n",
    "        print()\n",
    "    else:\n",
    "        # print out array shapes and details\n",
    "        print(\"Original Dataset information ---\\n\")\n",
    "        # print(\"Image shape: \", X_train[0][1])\n",
    "        print(\"Measurement Sets:\", len(measurements))\n",
    "        print(\"Total images:\", X_train.shape[0])\n",
    "        \n",
    "print(X_train.shape)\n",
    "print(measurements.shape)"
   ]
  },
  {
   "cell_type": "code",
   "execution_count": 8,
   "metadata": {},
   "outputs": [
    {
     "name": "stdout",
     "output_type": "stream",
     "text": [
      "Original Dataset information ---\n",
      "\n",
      "Measurement Sets: 5796\n",
      "Total images: 5796\n"
     ]
    }
   ],
   "source": [
    "print_dataset_info()"
   ]
  },
  {
   "cell_type": "markdown",
   "metadata": {},
   "source": [
    "### Display a sample image\n",
    "\n",
    "Here, we display a random sample image along with the drawn detected lanelines. We also print some characteristics of the lanelines polynomials."
   ]
  },
  {
   "cell_type": "code",
   "execution_count": 9,
   "metadata": {},
   "outputs": [
    {
     "name": "stdout",
     "output_type": "stream",
     "text": [
      "Image id -  1000967\n",
      "(270, 480, 3)\n"
     ]
    },
    {
     "data": {
      "image/png": "[encoded data removed]",
      "text/plain": [
       "<Figure size 432x288 with 1 Axes>"
      ]
     },
     "metadata": {
      "needs_background": "light"
     },
     "output_type": "display_data"
    }
   ],
   "source": [
    "idx = random.randint(0, len(X_train))\n",
    "sample_img = X_train[idx]\n",
    "print(\"Image id - \", (1000001 + idx))\n",
    "print(sample_img.shape)\n",
    "plt.imshow(sample_img)\n",
    "plt.axis('off')\n",
    "plt.title(\"Measurement Sets - \" + str(measurements[idx]), fontsize=15)\n",
    "plt.show()"
   ]
  },
  {
   "cell_type": "markdown",
   "metadata": {},
   "source": [
    "## Network Architecture\n",
    "\n",
    "Now, we will define our Convolutional Neural Network here comtaining 6 convolutional layers, 4 fully connected layers and some dropout and lambda layers in between. We will use a dropout layer after the 6th convolutional layers and set the number of epochs to 10.\n"
   ]
  },
  {
   "cell_type": "code",
   "execution_count": 10,
   "metadata": {},
   "outputs": [
    {
     "name": "stdout",
     "output_type": "stream",
     "text": [
      "Train on 4636 samples, validate on 1160 samples\n",
      "Epoch 1/10\n",
      "4636/4636 [==============================] - 125s 27ms/step - loss: 230.9004 - val_loss: 252.0169\n",
      "Epoch 2/10\n",
      "4636/4636 [==============================] - 112s 24ms/step - loss: 61.3478 - val_loss: 131.1018\n",
      "Epoch 3/10\n",
      "4636/4636 [==============================] - 113s 24ms/step - loss: 21.6882 - val_loss: 138.2664\n",
      "Epoch 4/10\n",
      "4636/4636 [==============================] - 112s 24ms/step - loss: 21.1699 - val_loss: 120.7117\n",
      "Epoch 5/10\n",
      "4636/4636 [==============================] - 111s 24ms/step - loss: 20.7664 - val_loss: 154.8194\n",
      "Epoch 6/10\n",
      "4636/4636 [==============================] - 114s 25ms/step - loss: 15.1740 - val_loss: 135.5368\n",
      "Epoch 7/10\n",
      "4636/4636 [==============================] - 117s 25ms/step - loss: 17.3790 - val_loss: 129.8644\n",
      "Epoch 8/10\n",
      "4636/4636 [==============================] - 115s 25ms/step - loss: 14.5139 - val_loss: 149.4734\n",
      "Epoch 9/10\n",
      "4636/4636 [==============================] - 114s 25ms/step - loss: 14.0136 - val_loss: 136.4786\n",
      "Epoch 10/10\n",
      "4636/4636 [==============================] - 115s 25ms/step - loss: 11.5520 - val_loss: 142.6004\n"
     ]
    }
   ],
   "source": [
    "# Batch size, epochs and pool size below are all paramaters to fiddle with for optimization\n",
    "batch_size = 150\n",
    "epochs = 10\n",
    "pool_size = (2, 2)\n",
    "\n",
    "# 2. Start of Network Architecture\n",
    "# NVIDIA network architecture\n",
    "model = Sequential()\n",
    "\n",
    "# Normalizes incoming inputs. First layer needs the input shape to work\n",
    "# model.add(BatchNormalization(input_shape=(270, 480, 3)))\n",
    "\n",
    "# image preprocessing - normalizing the pixel values and cropping the image\n",
    "model.add(Lambda(lambda x:(x/127.5)-1.0, input_shape=(270,480,3)))\n",
    "\n",
    "'''\n",
    "# add a cropping layer here if necessary\n",
    "# For example : cropping top 50 pixels and 20 pixels from the bottom\n",
    "model.add(Cropping2D(cropping=((0,0),(100,100)), input_shape=(540,960,3)))\n",
    "'''\n",
    "\n",
    "\n",
    "# 1st Convolutional layer\n",
    "model.add(Conv2D(64, (5, 5), activation=\"relu\", strides = (2,2)))\n",
    "# 2nd Convolutional layer\n",
    "model.add(Conv2D(36, (5, 5), activation=\"relu\", strides = (2,2)))\n",
    "# 3rd Convolutional layer\n",
    "model.add(Conv2D(48, (5, 5), activation=\"relu\", strides=(2,2)))\n",
    "# 4th Convolutional layer\n",
    "model.add(Conv2D(64, (3, 3), activation=\"relu\"))\n",
    "# 5th Convolutional layer\n",
    "model.add(Conv2D(64, (3, 3), activation=\"relu\"))\n",
    "# 6th Convolutional layer\n",
    "model.add(Conv2D(64, (3, 3), activation=\"relu\"))\n",
    "\n",
    "model.add(Dropout(0.5))\n",
    "\n",
    "# Pooling\n",
    "model.add(MaxPooling2D(pool_size=pool_size))\n",
    "\n",
    "# Flatten and Dropout\n",
    "model.add(Flatten())\n",
    "\n",
    "# FC Layer 1\n",
    "model.add(Dense(128))\n",
    "model.add(Activation('relu'))\n",
    "# model.add(Dropout(0.5))\n",
    "# FC Layer 2\n",
    "model.add(Dense(64))\n",
    "model.add(Activation('relu'))\n",
    "# FC Layer 3\n",
    "model.add(Dense(32))\n",
    "model.add(Activation('relu'))\n",
    "\n",
    "# final layer to decide the 6 laneline polynomial coefficients\n",
    "model.add(Dense(6))\n",
    "model.add(Activation('relu'))\n",
    "\n",
    "\n",
    "# Compiling and training the model\n",
    "# Currently using MAE instead of MSE as MSE tends to only have 1 label for left curve, 1 for right curve, and 1 for straight (nothing in between)\n",
    "model.compile(optimizer='Adam', loss='mean_absolute_error')\n",
    "\n",
    "# fit model with a validation set of 20%\n",
    "history_object = model.fit(X_train, measurements, validation_split=0.2, shuffle=True, epochs=10)\n",
    "\n",
    "model.save('model.h5')"
   ]
  },
  {
   "cell_type": "markdown",
   "metadata": {},
   "source": [
    "## Model Summary\n",
    "\n",
    "Print the model summary."
   ]
  },
  {
   "cell_type": "code",
   "execution_count": 11,
   "metadata": {},
   "outputs": [
    {
     "name": "stdout",
     "output_type": "stream",
     "text": [
      "Model: \"sequential_1\"\n",
      "_________________________________________________________________\n",
      "Layer (type)                 Output Shape              Param #   \n",
      "=================================================================\n",
      "lambda_1 (Lambda)            (None, 270, 480, 3)       0         \n",
      "_________________________________________________________________\n",
      "conv2d_1 (Conv2D)            (None, 133, 238, 64)      4864      \n",
      "_________________________________________________________________\n",
      "conv2d_2 (Conv2D)            (None, 65, 117, 36)       57636     \n",
      "_________________________________________________________________\n",
      "conv2d_3 (Conv2D)            (None, 31, 57, 48)        43248     \n",
      "_________________________________________________________________\n",
      "conv2d_4 (Conv2D)            (None, 29, 55, 64)        27712     \n",
      "_________________________________________________________________\n",
      "conv2d_5 (Conv2D)            (None, 27, 53, 64)        36928     \n",
      "_________________________________________________________________\n",
      "conv2d_6 (Conv2D)            (None, 25, 51, 64)        36928     \n",
      "_________________________________________________________________\n",
      "dropout_1 (Dropout)          (None, 25, 51, 64)        0         \n",
      "_________________________________________________________________\n",
      "max_pooling2d_1 (MaxPooling2 (None, 12, 25, 64)        0         \n",
      "_________________________________________________________________\n",
      "flatten_1 (Flatten)          (None, 19200)             0         \n",
      "_________________________________________________________________\n",
      "dense_1 (Dense)              (None, 128)               2457728   \n",
      "_________________________________________________________________\n",
      "activation_1 (Activation)    (None, 128)               0         \n",
      "_________________________________________________________________\n",
      "dense_2 (Dense)              (None, 64)                8256      \n",
      "_________________________________________________________________\n",
      "activation_2 (Activation)    (None, 64)                0         \n",
      "_________________________________________________________________\n",
      "dense_3 (Dense)              (None, 32)                2080      \n",
      "_________________________________________________________________\n",
      "activation_3 (Activation)    (None, 32)                0         \n",
      "_________________________________________________________________\n",
      "dense_4 (Dense)              (None, 6)                 198       \n",
      "_________________________________________________________________\n",
      "activation_4 (Activation)    (None, 6)                 0         \n",
      "=================================================================\n",
      "Total params: 2,675,578\n",
      "Trainable params: 2,675,578\n",
      "Non-trainable params: 0\n",
      "_________________________________________________________________\n"
     ]
    }
   ],
   "source": [
    "model.summary()"
   ]
  },
  {
   "cell_type": "markdown",
   "metadata": {},
   "source": [
    "## Print Loss\n",
    "\n",
    "Print the training loss. We will also plot a graph of training loss (mean squared error loss) vs no of epochs. This is just to get an idea of how the loss goes on reducing "
   ]
  },
  {
   "cell_type": "code",
   "execution_count": 13,
   "metadata": {},
   "outputs": [
    {
     "name": "stdout",
     "output_type": "stream",
     "text": [
      "dict_keys(['val_loss', 'loss'])\n"
     ]
    },
    {
     "data": {
      "image/png": "[encoded data removed]",
      "text/plain": [
       "<Figure size 432x288 with 1 Axes>"
      ]
     },
     "metadata": {
      "needs_background": "light"
     },
     "output_type": "display_data"
    }
   ],
   "source": [
    "print(history_object.history.keys())\n",
    "\n",
    "plt.plot(history_object.history['loss'])\n",
    "plt.plot(history_object.history['val_loss'])\n",
    "plt.title('model mean squared error loss')\n",
    "plt.ylabel('mean squared error loss')\n",
    "plt.xlabel('epoch')\n",
    "\n",
    "plt.legend(['training set', 'validation set'], loc='upper right')\n",
    "\n",
    "plt.show()\n"
   ]
  }
 ],
 "metadata": {
  "kernelspec": {
   "display_name": "Python 3",
   "language": "python",
   "name": "python3"
  },
  "language_info": {
   "codemirror_mode": {
    "name": "ipython",
    "version": 3
   },
   "file_extension": ".py",
   "mimetype": "text/x-python",
   "name": "python",
   "nbconvert_exporter": "python",
   "pygments_lexer": "ipython3",
   "version": "3.7.9"
  }
 },
 "nbformat": 4,
 "nbformat_minor": 4
}
